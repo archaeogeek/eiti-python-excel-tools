{
  "cells": [
    {
      "cell_type": "markdown",
      "source": "# Checking URLs in excel with python",
      "metadata": {
        "formattedRanges": [],
        "cell_id": "3fee914bf69a4e6687a5cce9368b0c76",
        "deepnote_cell_type": "text-cell-h1"
      },
      "block_group": "b8c2325a96134fb08b7c066f1e3f8e5d"
    },
    {
      "cell_type": "markdown",
      "source": "### Usage",
      "metadata": {
        "is_collapsed": false,
        "formattedRanges": [],
        "deepnote_app_block_visible": false,
        "cell_id": "a329dec54d7b48f3893dc21118a0a409",
        "deepnote_cell_type": "text-cell-h3"
      },
      "block_group": "540112ba317d4b9f94ffce4be210d67d"
    },
    {
      "cell_type": "markdown",
      "source": "* Upload your xlsx file in the **files** section on the left.\n* Right-click the file name and select **Copy path to clipboard**\n* In the code block below, in **line 35**, replace the `file_path` with the path to your excel file\n* Click the **Run notebook** button above to execute the code. The results will be displayed in the output area below the final code block.",
      "metadata": {
        "cell_id": "7483f1b3afd44d9fa83be35d4cabb23e",
        "deepnote_cell_type": "markdown"
      },
      "block_group": "b373eb66ae30466e9dc7107ffb144626"
    },
    {
      "cell_type": "code",
      "source": "# install required modules\n!pip install openpyxl",
      "metadata": {
        "source_hash": "ef280e97",
        "execution_start": 1725547931709,
        "execution_millis": 0,
        "deepnote_to_be_reexecuted": false,
        "cell_id": "f01f1c5de7454cd88678db7ece3ee938",
        "deepnote_cell_type": "code"
      },
      "outputs": [],
      "outputs_reference": null,
      "execution_count": null,
      "block_group": "bef4935b99a7473e960d3427fc8dfef0",
      "content_dependencies": null
    },
    {
      "cell_type": "code",
      "source": "# load the required modules\nimport openpyxl\nimport re\nimport requests\nimport warnings",
      "metadata": {
        "source_hash": "bb537663",
        "execution_start": 1725465019886,
        "execution_millis": 226,
        "deepnote_to_be_reexecuted": false,
        "cell_id": "2fcaed9ecbc84ff9abf2e571bb61e65c",
        "deepnote_cell_type": "code"
      },
      "outputs": [],
      "outputs_reference": null,
      "execution_count": null,
      "block_group": "fc9f2aa62c0f4ad185e2991d448faaa2",
      "content_dependencies": null
    },
    {
      "cell_type": "markdown",
      "source": "### Notes\nWe need to iterate through each sheet, and find anything that looks like a URL. \n\nOur assumptions:\n* a string is a URL if and only if it starts with http or https\n* any strings that start with http or https but contain ; or ' ' should be split into multiple strings\n* any URLs that end in a . or a ; should have that stripped\n\nThen, we need to attempt to connect to each URL with a GET request and record whether it returns a success response or a failure.\nWe only want to check a URL once- the script should skip any that have already been checked.\n\nFinally, we only want to return a list of the URLs reporting an error",
      "metadata": {
        "cell_id": "9eb03ade01d84b95beed88ee4071feae",
        "deepnote_cell_type": "markdown"
      },
      "block_group": "2bf0582587a34868baf0aafc69665bbf"
    },
    {
      "cell_type": "markdown",
      "source": "### Code",
      "metadata": {
        "formattedRanges": [],
        "cell_id": "8d9610363a3649f6a6be897fd9f316ad",
        "deepnote_cell_type": "text-cell-h3"
      },
      "block_group": "45390f2690f94eb9a6071d7a72a93a7d"
    },
    {
      "cell_type": "code",
      "source": "def find_urls_in_excel(file_path):\n    # ignore warnings from openpyxl, we're not writing to the excel file\n    warnings.filterwarnings('ignore', category=UserWarning, module='openpyxl')\n    # Load the workbook\n    workbook = openpyxl.load_workbook(file_path)\n    \n    url_pattern = re.compile(r'(https?://[^\\s]+)')\n    \n    url_list = []\n\n    # Iterate through each sheet\n    for sheet_name in workbook.sheetnames:\n        sheet = workbook[sheet_name]\n        # Iterate through each row and column\n        for row in sheet.iter_rows():\n            for cell in row:\n                if cell.value:\n                    urls = url_pattern.findall(str(cell.value))\n                    for url in urls:\n                        sanitized_url = url.rstrip('.,!?;:)')\n                        url_list.append({'sheet': sheet_name, 'cell': cell.coordinate, 'url': sanitized_url})\n    return url_list\n\n# check the status of each URL\ndef check_url_status(url):\n    try:\n        response = requests.get(url)\n        return response.status_code\n    except requests.exceptions.RequestException as e:\n        # print(f\"Error: An exception occurred while trying to reach the URL '{url}'. Exception details: {e}\")\n        return \"Unspecified Error\"\n    \n\n# put the path to the excel file here\nfile_path = '/work/tanzania_2019_2020.xlsx'\nurls = find_urls_in_excel(file_path)\nchecked_urls = []\nfor entry in urls:\n    if entry['url'] not in checked_urls:\n        status_code = check_url_status(entry['url'])\n        checked_urls.append(entry['url'])  # Mark this URL as checked\n        if status_code != 200:\n            print(f\"Sheet: {entry['sheet']}, Cell: {entry['cell']}, URL: {entry['url']}, Status: {status_code}\")\n    ",
      "metadata": {
        "source_hash": "37f7aa35",
        "execution_start": 1725465189230,
        "execution_millis": 138166,
        "deepnote_to_be_reexecuted": false,
        "cell_id": "7dd33cb6fe004bf3827e3a2c11aed2b3",
        "deepnote_cell_type": "code"
      },
      "outputs": [],
      "outputs_reference": null,
      "execution_count": null,
      "block_group": "471378c9d2814d5f81f6670c76e74c15",
      "content_dependencies": null
    },
    {
      "cell_type": "markdown",
      "source": "<a style='text-decoration:none;line-height:16px;display:flex;color:#5B5B62;padding:10px;justify-content:end;' href='https://deepnote.com?utm_source=created-in-deepnote-cell&projectId=0a5edc1a-b9e6-43d0-b3b1-b9ae11781243' target=\"_blank\">\n<img alt='Created in deepnote.com' style='display:inline;max-height:16px;margin:0px;margin-right:7.5px;' src='data:image/svg+xml;base64,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' > </img>\nCreated in <span style='font-weight:600;margin-left:4px;'>Deepnote</span></a>",
      "metadata": {
        "created_in_deepnote_cell": true,
        "deepnote_cell_type": "markdown"
      }
    }
  ],
  "nbformat": 4,
  "nbformat_minor": 0,
  "metadata": {
    "deepnote_notebook_id": "c0755292a9eb40d881eeba7498013eda",
    "deepnote_execution_queue": []
  }
}